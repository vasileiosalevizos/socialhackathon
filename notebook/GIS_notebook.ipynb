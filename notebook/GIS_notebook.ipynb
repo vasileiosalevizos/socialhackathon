{
  "nbformat": 4,
  "nbformat_minor": 0,
  "metadata": {
    "colab": {
      "provenance": [],
      "mount_file_id": "1CJb-NrbZYAE6BC-eON99EkhewobQurqu",
      "authorship_tag": "ABX9TyP4PaGg0qStwkkZ+RSs0gzv",
      "include_colab_link": true
    },
    "kernelspec": {
      "name": "python3",
      "display_name": "Python 3"
    },
    "language_info": {
      "name": "python"
    }
  },
  "cells": [
    {
      "cell_type": "markdown",
      "metadata": {
        "id": "view-in-github",
        "colab_type": "text"
      },
      "source": [
        "<a href=\"https://colab.research.google.com/github/vasileiosalevizos/socialhackathon/blob/main/notebook/GIS_notebook.ipynb\" target=\"_parent\"><img src=\"https://colab.research.google.com/assets/colab-badge.svg\" alt=\"Open In Colab\"/></a>"
      ]
    },
    {
      "cell_type": "code",
      "execution_count": 1,
      "metadata": {
        "id": "Vu2Ts8rh49iX",
        "colab": {
          "base_uri": "https://localhost:8080/"
        },
        "outputId": "e6aa5469-a808-421b-c1d9-6180c0fb92ce"
      },
      "outputs": [
        {
          "output_type": "stream",
          "name": "stdout",
          "text": [
            "Looking in indexes: https://pypi.org/simple, https://us-python.pkg.dev/colab-wheels/public/simple/\n",
            "Requirement already satisfied: folium in /usr/local/lib/python3.10/dist-packages (0.14.0)\n",
            "Collecting geopandas\n",
            "  Downloading geopandas-0.13.0-py3-none-any.whl (1.1 MB)\n",
            "\u001b[2K     \u001b[90m━━━━━━━━━━━━━━━━━━━━━━━━━━━━━━━━━━━━━━━━\u001b[0m \u001b[32m1.1/1.1 MB\u001b[0m \u001b[31m29.9 MB/s\u001b[0m eta \u001b[36m0:00:00\u001b[0m\n",
            "\u001b[?25hRequirement already satisfied: pandas in /usr/local/lib/python3.10/dist-packages (1.5.3)\n",
            "Requirement already satisfied: branca>=0.6.0 in /usr/local/lib/python3.10/dist-packages (from folium) (0.6.0)\n",
            "Requirement already satisfied: jinja2>=2.9 in /usr/local/lib/python3.10/dist-packages (from folium) (3.1.2)\n",
            "Requirement already satisfied: numpy in /usr/local/lib/python3.10/dist-packages (from folium) (1.22.4)\n",
            "Requirement already satisfied: requests in /usr/local/lib/python3.10/dist-packages (from folium) (2.27.1)\n",
            "Collecting fiona>=1.8.19 (from geopandas)\n",
            "  Downloading Fiona-1.9.3-cp310-cp310-manylinux_2_17_x86_64.manylinux2014_x86_64.whl (16.0 MB)\n",
            "\u001b[2K     \u001b[90m━━━━━━━━━━━━━━━━━━━━━━━━━━━━━━━━━━━━━━━━\u001b[0m \u001b[32m16.0/16.0 MB\u001b[0m \u001b[31m48.4 MB/s\u001b[0m eta \u001b[36m0:00:00\u001b[0m\n",
            "\u001b[?25hRequirement already satisfied: packaging in /usr/local/lib/python3.10/dist-packages (from geopandas) (23.1)\n",
            "Collecting pyproj>=3.0.1 (from geopandas)\n",
            "  Downloading pyproj-3.5.0-cp310-cp310-manylinux_2_17_x86_64.manylinux2014_x86_64.whl (7.7 MB)\n",
            "\u001b[2K     \u001b[90m━━━━━━━━━━━━━━━━━━━━━━━━━━━━━━━━━━━━━━━━\u001b[0m \u001b[32m7.7/7.7 MB\u001b[0m \u001b[31m96.5 MB/s\u001b[0m eta \u001b[36m0:00:00\u001b[0m\n",
            "\u001b[?25hRequirement already satisfied: shapely>=1.7.1 in /usr/local/lib/python3.10/dist-packages (from geopandas) (2.0.1)\n",
            "Requirement already satisfied: python-dateutil>=2.8.1 in /usr/local/lib/python3.10/dist-packages (from pandas) (2.8.2)\n",
            "Requirement already satisfied: pytz>=2020.1 in /usr/local/lib/python3.10/dist-packages (from pandas) (2022.7.1)\n",
            "Requirement already satisfied: attrs>=19.2.0 in /usr/local/lib/python3.10/dist-packages (from fiona>=1.8.19->geopandas) (23.1.0)\n",
            "Requirement already satisfied: certifi in /usr/local/lib/python3.10/dist-packages (from fiona>=1.8.19->geopandas) (2022.12.7)\n",
            "Requirement already satisfied: click~=8.0 in /usr/local/lib/python3.10/dist-packages (from fiona>=1.8.19->geopandas) (8.1.3)\n",
            "Collecting click-plugins>=1.0 (from fiona>=1.8.19->geopandas)\n",
            "  Downloading click_plugins-1.1.1-py2.py3-none-any.whl (7.5 kB)\n",
            "Collecting cligj>=0.5 (from fiona>=1.8.19->geopandas)\n",
            "  Downloading cligj-0.7.2-py3-none-any.whl (7.1 kB)\n",
            "Collecting munch>=2.3.2 (from fiona>=1.8.19->geopandas)\n",
            "  Downloading munch-2.5.0-py2.py3-none-any.whl (10 kB)\n",
            "Requirement already satisfied: MarkupSafe>=2.0 in /usr/local/lib/python3.10/dist-packages (from jinja2>=2.9->folium) (2.1.2)\n",
            "Requirement already satisfied: six>=1.5 in /usr/local/lib/python3.10/dist-packages (from python-dateutil>=2.8.1->pandas) (1.16.0)\n",
            "Requirement already satisfied: urllib3<1.27,>=1.21.1 in /usr/local/lib/python3.10/dist-packages (from requests->folium) (1.26.15)\n",
            "Requirement already satisfied: charset-normalizer~=2.0.0 in /usr/local/lib/python3.10/dist-packages (from requests->folium) (2.0.12)\n",
            "Requirement already satisfied: idna<4,>=2.5 in /usr/local/lib/python3.10/dist-packages (from requests->folium) (3.4)\n",
            "Installing collected packages: pyproj, munch, cligj, click-plugins, fiona, geopandas\n",
            "Successfully installed click-plugins-1.1.1 cligj-0.7.2 fiona-1.9.3 geopandas-0.13.0 munch-2.5.0 pyproj-3.5.0\n"
          ]
        }
      ],
      "source": [
        "!pip install folium geopandas pandas"
      ]
    },
    {
      "cell_type": "code",
      "source": [
        "import folium\n",
        "import folium.plugins\n",
        "import geopandas as gpd\n",
        "import pandas as pd\n",
        "from IPython.display import IFrame"
      ],
      "metadata": {
        "id": "n8nd9js9BWDp"
      },
      "execution_count": 2,
      "outputs": []
    },
    {
      "cell_type": "code",
      "source": [
        "greece_geo = \"/content/drive/MyDrive/ecoVote_paper/dataset/geogreece.geojson\"\n",
        "events_data = \"/content/drive/MyDrive/ecoVote_paper/dataset/events_data.csv\"\n",
        "locations_data = \"/content/drive/MyDrive/ecoVote_paper/dataset/locations_data.csv\"\n",
        "\n",
        "events_df = pd.read_csv(events_data)\n",
        "locations_df = pd.read_csv(locations_data)"
      ],
      "metadata": {
        "id": "iYtPzvXfBWF3"
      },
      "execution_count": 3,
      "outputs": []
    },
    {
      "cell_type": "code",
      "source": [
        "def create_map(events_df, locations_df, greece_geo):\n",
        "    # Initialize the map centered on Greece with an appropriate zoom level\n",
        "    m = folium.Map(location=[39.074208, 21.824312], zoom_start=7)\n",
        "\n",
        "    # Add Greece boundaries to the map\n",
        "    folium.GeoJson(greece_geo, name=\"Greece\").add_to(m)\n",
        "\n",
        "    # Add event pins\n",
        "    for index, event in events_df.iterrows():\n",
        "        folium.Marker(\n",
        "            location=[event[\"latitude\"], event[\"longitude\"]],\n",
        "            popup=f\"{event['event_name']} ({event['event_date']})\",\n",
        "            icon=folium.Icon(color=\"blue\", icon=\"info-sign\"),\n",
        "        ).add_to(m)\n",
        "\n",
        "    # Add heatmap for locations that need actions\n",
        "    heatmap_data = [[row[\"latitude\"], row[\"longitude\"]] for index, row in locations_df.iterrows()]\n",
        "    folium.plugins.HeatMap(heatmap_data, name=\"Heatmap\").add_to(m)\n",
        "\n",
        "    # Add layer control\n",
        "    folium.LayerControl().add_to(m)\n",
        "\n",
        "    return m"
      ],
      "metadata": {
        "id": "-xNSek0CBiUh"
      },
      "execution_count": 4,
      "outputs": []
    },
    {
      "cell_type": "code",
      "source": [
        "# Generate the map\n",
        "map = create_map(events_df, locations_df, greece_geo)"
      ],
      "metadata": {
        "id": "k16DM1KxBiew"
      },
      "execution_count": 5,
      "outputs": []
    },
    {
      "cell_type": "code",
      "source": [
        "# Save the map to an HTML file\n",
        "map.save(\"/content/drive/MyDrive/ecoVote_paper/greece_map.html\")\n",
        "\n",
        "# Display the map\n",
        "IFrame(\"/content/drive/MyDrive/ecoVote_paper/greece_map.html\", width=800, height=600)"
      ],
      "metadata": {
        "colab": {
          "base_uri": "https://localhost:8080/",
          "height": 622
        },
        "id": "GLBa5NwMBWIM",
        "outputId": "ef0a6cca-2ca9-4b59-b99d-5468b1b2727a"
      },
      "execution_count": 8,
      "outputs": [
        {
          "output_type": "execute_result",
          "data": {
            "text/plain": [
              "<IPython.lib.display.IFrame at 0x7fa78ccde0b0>"
            ],
            "text/html": [
              "\n",
              "        <iframe\n",
              "            width=\"800\"\n",
              "            height=\"600\"\n",
              "            src=\"/content/drive/MyDrive/ecoVote_paper/greece_map.html\"\n",
              "            frameborder=\"0\"\n",
              "            allowfullscreen\n",
              "            \n",
              "        ></iframe>\n",
              "        "
            ]
          },
          "metadata": {},
          "execution_count": 8
        }
      ]
    },
    {
      "cell_type": "code",
      "source": [
        "!ls"
      ],
      "metadata": {
        "colab": {
          "base_uri": "https://localhost:8080/"
        },
        "id": "bNQdHrZdCt02",
        "outputId": "ac0f6c4f-e357-4d5b-93e4-1cf2c4cac369"
      },
      "execution_count": 7,
      "outputs": [
        {
          "output_type": "stream",
          "name": "stdout",
          "text": [
            "drive  greece_map.html\tsample_data\n"
          ]
        }
      ]
    }
  ]
}